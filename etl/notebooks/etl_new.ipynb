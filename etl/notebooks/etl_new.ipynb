{
 "cells": [
  {
   "cell_type": "code",
   "execution_count": 1,
   "metadata": {},
   "outputs": [
    {
     "name": "stdout",
     "output_type": "stream",
     "text": [
      "Tue Mar 27 10:54:16 CST 2018\r\n"
     ]
    }
   ],
   "source": [
    "!date"
   ]
  },
  {
   "cell_type": "code",
   "execution_count": 2,
   "metadata": {},
   "outputs": [
    {
     "name": "stdout",
     "output_type": "stream",
     "text": [
      "README.md                      ~$gdppc_cppp-by-gapminder.xlsx\r\n",
      "gdppc_cppp-by-gapminder.xlsx\r\n"
     ]
    }
   ],
   "source": [
    "!ls ../source/gdppc_cppp/"
   ]
  },
  {
   "cell_type": "code",
   "execution_count": 3,
   "metadata": {},
   "outputs": [
    {
     "name": "stdout",
     "output_type": "stream",
     "text": [
      "README.md\r\n",
      "datapackage.json\r\n",
      "datapackage.json.bak\r\n",
      "ddf--concepts.csv\r\n",
      "ddf--datapoints--gdp_per_capita_cppp--by--country--year.csv\r\n",
      "ddf--datapoints--gdp_per_capita_cppp--by--global--year.csv\r\n",
      "ddf--datapoints--gdp_per_capita_cppp--by--world_4region--year.csv\r\n",
      "ddf--entities--geo--country.csv\r\n",
      "ddf--entities--geo--global.csv\r\n",
      "ddf--entities--geo--world_4region.csv\r\n",
      "\u001b[1m\u001b[36metl\u001b[m\u001b[m\r\n"
     ]
    }
   ],
   "source": [
    "!ls ../../"
   ]
  },
  {
   "cell_type": "code",
   "execution_count": null,
   "metadata": {},
   "outputs": [],
   "source": []
  },
  {
   "cell_type": "code",
   "execution_count": 4,
   "metadata": {},
   "outputs": [],
   "source": [
    "import pandas as pd"
   ]
  },
  {
   "cell_type": "code",
   "execution_count": null,
   "metadata": {},
   "outputs": [],
   "source": []
  },
  {
   "cell_type": "code",
   "execution_count": 8,
   "metadata": {},
   "outputs": [],
   "source": [
    "# code is not there yet. will add it manually\n",
    "\n",
    "code = 'gdp_per_capita_cppp'"
   ]
  },
  {
   "cell_type": "code",
   "execution_count": null,
   "metadata": {},
   "outputs": [],
   "source": []
  },
  {
   "cell_type": "code",
   "execution_count": 12,
   "metadata": {},
   "outputs": [],
   "source": [
    "domain = [ {'concept': 'geo', 'name': 'Geo', 'domain': None, 'concept_type': 'entity_domain'}\n",
    "         , {'concept': 'country', 'name': 'Country', 'domain': 'geo', 'concept_type': 'entity_set'}\n",
    "         , {'concept': 'world_4region', 'name': 'four regions', 'domain': 'geo', 'concept_type': 'entity_set'}\n",
    "         , {'concept': 'global', 'name': 'global', 'domain': 'geo', 'concept_type': 'entity_set'}\n",
    "         , {'concept': 'domain', 'name': 'Domain', 'concept_type': 'string'}\n",
    "         ]\n",
    "\n",
    "domain = pd.DataFrame.from_records(domain)"
   ]
  },
  {
   "cell_type": "code",
   "execution_count": 13,
   "metadata": {},
   "outputs": [],
   "source": [
    "domain = domain.set_index('concept')"
   ]
  },
  {
   "cell_type": "code",
   "execution_count": 14,
   "metadata": {},
   "outputs": [
    {
     "data": {
      "text/html": [
       "<div>\n",
       "<style scoped>\n",
       "    .dataframe tbody tr th:only-of-type {\n",
       "        vertical-align: middle;\n",
       "    }\n",
       "\n",
       "    .dataframe tbody tr th {\n",
       "        vertical-align: top;\n",
       "    }\n",
       "\n",
       "    .dataframe thead th {\n",
       "        text-align: right;\n",
       "    }\n",
       "</style>\n",
       "<table border=\"1\" class=\"dataframe\">\n",
       "  <thead>\n",
       "    <tr style=\"text-align: right;\">\n",
       "      <th></th>\n",
       "      <th>concept_type</th>\n",
       "      <th>domain</th>\n",
       "      <th>name</th>\n",
       "    </tr>\n",
       "    <tr>\n",
       "      <th>concept</th>\n",
       "      <th></th>\n",
       "      <th></th>\n",
       "      <th></th>\n",
       "    </tr>\n",
       "  </thead>\n",
       "  <tbody>\n",
       "    <tr>\n",
       "      <th>geo</th>\n",
       "      <td>entity_domain</td>\n",
       "      <td>None</td>\n",
       "      <td>Geo</td>\n",
       "    </tr>\n",
       "    <tr>\n",
       "      <th>country</th>\n",
       "      <td>entity_set</td>\n",
       "      <td>geo</td>\n",
       "      <td>Country</td>\n",
       "    </tr>\n",
       "    <tr>\n",
       "      <th>world_4region</th>\n",
       "      <td>entity_set</td>\n",
       "      <td>geo</td>\n",
       "      <td>four regions</td>\n",
       "    </tr>\n",
       "    <tr>\n",
       "      <th>global</th>\n",
       "      <td>entity_set</td>\n",
       "      <td>geo</td>\n",
       "      <td>global</td>\n",
       "    </tr>\n",
       "    <tr>\n",
       "      <th>domain</th>\n",
       "      <td>string</td>\n",
       "      <td>NaN</td>\n",
       "      <td>Domain</td>\n",
       "    </tr>\n",
       "  </tbody>\n",
       "</table>\n",
       "</div>"
      ],
      "text/plain": [
       "                concept_type domain          name\n",
       "concept                                          \n",
       "geo            entity_domain   None           Geo\n",
       "country           entity_set    geo       Country\n",
       "world_4region     entity_set    geo  four regions\n",
       "global            entity_set    geo        global\n",
       "domain                string    NaN        Domain"
      ]
     },
     "execution_count": 14,
     "metadata": {},
     "output_type": "execute_result"
    }
   ],
   "source": [
    "domain"
   ]
  },
  {
   "cell_type": "code",
   "execution_count": null,
   "metadata": {},
   "outputs": [],
   "source": []
  },
  {
   "cell_type": "code",
   "execution_count": 15,
   "metadata": {},
   "outputs": [],
   "source": [
    "time = pd.DataFrame.from_records([{'concept': 'year', 'concept_type': 'time', 'name': 'Year'}]).set_index('concept')"
   ]
  },
  {
   "cell_type": "code",
   "execution_count": 16,
   "metadata": {},
   "outputs": [
    {
     "data": {
      "text/html": [
       "<div>\n",
       "<style scoped>\n",
       "    .dataframe tbody tr th:only-of-type {\n",
       "        vertical-align: middle;\n",
       "    }\n",
       "\n",
       "    .dataframe tbody tr th {\n",
       "        vertical-align: top;\n",
       "    }\n",
       "\n",
       "    .dataframe thead th {\n",
       "        text-align: right;\n",
       "    }\n",
       "</style>\n",
       "<table border=\"1\" class=\"dataframe\">\n",
       "  <thead>\n",
       "    <tr style=\"text-align: right;\">\n",
       "      <th></th>\n",
       "      <th>concept_type</th>\n",
       "      <th>name</th>\n",
       "    </tr>\n",
       "    <tr>\n",
       "      <th>concept</th>\n",
       "      <th></th>\n",
       "      <th></th>\n",
       "    </tr>\n",
       "  </thead>\n",
       "  <tbody>\n",
       "    <tr>\n",
       "      <th>year</th>\n",
       "      <td>time</td>\n",
       "      <td>Year</td>\n",
       "    </tr>\n",
       "  </tbody>\n",
       "</table>\n",
       "</div>"
      ],
      "text/plain": [
       "        concept_type  name\n",
       "concept                   \n",
       "year            time  Year"
      ]
     },
     "execution_count": 16,
     "metadata": {},
     "output_type": "execute_result"
    }
   ],
   "source": [
    "time"
   ]
  },
  {
   "cell_type": "code",
   "execution_count": null,
   "metadata": {},
   "outputs": [],
   "source": []
  },
  {
   "cell_type": "code",
   "execution_count": 17,
   "metadata": {},
   "outputs": [],
   "source": [
    "measure = pd.DataFrame.from_records(\n",
    "    [{'concept': code, 'concept_type': 'measure', 'name': 'GDP per Captia'}]).set_index('concept')"
   ]
  },
  {
   "cell_type": "code",
   "execution_count": 18,
   "metadata": {},
   "outputs": [],
   "source": [
    "strings = pd.DataFrame.from_records(\n",
    "    [{'concept': 'name', 'concept_type': 'string', 'name': 'Name'}]).set_index('concept')"
   ]
  },
  {
   "cell_type": "code",
   "execution_count": null,
   "metadata": {},
   "outputs": [],
   "source": []
  },
  {
   "cell_type": "code",
   "execution_count": 19,
   "metadata": {},
   "outputs": [],
   "source": [
    "cdf = pd.concat([measure, strings, domain, time])"
   ]
  },
  {
   "cell_type": "code",
   "execution_count": 20,
   "metadata": {},
   "outputs": [],
   "source": [
    "cdf = cdf.reset_index()"
   ]
  },
  {
   "cell_type": "code",
   "execution_count": 158,
   "metadata": {},
   "outputs": [],
   "source": [
    "# cdf['name'] = cdf['name'].fillna(cdf['concept'].map(lambda x: x.replace('_', ' ').title()))"
   ]
  },
  {
   "cell_type": "code",
   "execution_count": 21,
   "metadata": {},
   "outputs": [
    {
     "data": {
      "text/html": [
       "<div>\n",
       "<style scoped>\n",
       "    .dataframe tbody tr th:only-of-type {\n",
       "        vertical-align: middle;\n",
       "    }\n",
       "\n",
       "    .dataframe tbody tr th {\n",
       "        vertical-align: top;\n",
       "    }\n",
       "\n",
       "    .dataframe thead th {\n",
       "        text-align: right;\n",
       "    }\n",
       "</style>\n",
       "<table border=\"1\" class=\"dataframe\">\n",
       "  <thead>\n",
       "    <tr style=\"text-align: right;\">\n",
       "      <th></th>\n",
       "      <th>concept</th>\n",
       "      <th>concept_type</th>\n",
       "      <th>domain</th>\n",
       "      <th>name</th>\n",
       "    </tr>\n",
       "  </thead>\n",
       "  <tbody>\n",
       "    <tr>\n",
       "      <th>0</th>\n",
       "      <td>gdp_per_capita_cppp</td>\n",
       "      <td>measure</td>\n",
       "      <td>NaN</td>\n",
       "      <td>GDP per Captia</td>\n",
       "    </tr>\n",
       "    <tr>\n",
       "      <th>1</th>\n",
       "      <td>name</td>\n",
       "      <td>string</td>\n",
       "      <td>NaN</td>\n",
       "      <td>Name</td>\n",
       "    </tr>\n",
       "    <tr>\n",
       "      <th>2</th>\n",
       "      <td>geo</td>\n",
       "      <td>entity_domain</td>\n",
       "      <td>None</td>\n",
       "      <td>Geo</td>\n",
       "    </tr>\n",
       "    <tr>\n",
       "      <th>3</th>\n",
       "      <td>country</td>\n",
       "      <td>entity_set</td>\n",
       "      <td>geo</td>\n",
       "      <td>Country</td>\n",
       "    </tr>\n",
       "    <tr>\n",
       "      <th>4</th>\n",
       "      <td>world_4region</td>\n",
       "      <td>entity_set</td>\n",
       "      <td>geo</td>\n",
       "      <td>four regions</td>\n",
       "    </tr>\n",
       "    <tr>\n",
       "      <th>5</th>\n",
       "      <td>global</td>\n",
       "      <td>entity_set</td>\n",
       "      <td>geo</td>\n",
       "      <td>global</td>\n",
       "    </tr>\n",
       "    <tr>\n",
       "      <th>6</th>\n",
       "      <td>domain</td>\n",
       "      <td>string</td>\n",
       "      <td>NaN</td>\n",
       "      <td>Domain</td>\n",
       "    </tr>\n",
       "    <tr>\n",
       "      <th>7</th>\n",
       "      <td>year</td>\n",
       "      <td>time</td>\n",
       "      <td>NaN</td>\n",
       "      <td>Year</td>\n",
       "    </tr>\n",
       "  </tbody>\n",
       "</table>\n",
       "</div>"
      ],
      "text/plain": [
       "               concept   concept_type domain            name\n",
       "0  gdp_per_capita_cppp        measure    NaN  GDP per Captia\n",
       "1                 name         string    NaN            Name\n",
       "2                  geo  entity_domain   None             Geo\n",
       "3              country     entity_set    geo         Country\n",
       "4        world_4region     entity_set    geo    four regions\n",
       "5               global     entity_set    geo          global\n",
       "6               domain         string    NaN          Domain\n",
       "7                 year           time    NaN            Year"
      ]
     },
     "execution_count": 21,
     "metadata": {},
     "output_type": "execute_result"
    }
   ],
   "source": [
    "cdf"
   ]
  },
  {
   "cell_type": "code",
   "execution_count": null,
   "metadata": {},
   "outputs": [],
   "source": []
  },
  {
   "cell_type": "code",
   "execution_count": 22,
   "metadata": {},
   "outputs": [],
   "source": [
    "cdf.to_csv('../../ddf--concepts.csv', index=False)"
   ]
  },
  {
   "cell_type": "code",
   "execution_count": null,
   "metadata": {},
   "outputs": [],
   "source": []
  },
  {
   "cell_type": "code",
   "execution_count": 23,
   "metadata": {},
   "outputs": [],
   "source": [
    "# datapoints"
   ]
  },
  {
   "cell_type": "code",
   "execution_count": 24,
   "metadata": {},
   "outputs": [],
   "source": [
    "country_data = pd.read_excel('../source/gdppc_cppp/gdppc_cppp-by-gapminder.xlsx', sheet_name='countries_and_territories')"
   ]
  },
  {
   "cell_type": "code",
   "execution_count": 25,
   "metadata": {},
   "outputs": [
    {
     "data": {
      "text/html": [
       "<div>\n",
       "<style scoped>\n",
       "    .dataframe tbody tr th:only-of-type {\n",
       "        vertical-align: middle;\n",
       "    }\n",
       "\n",
       "    .dataframe tbody tr th {\n",
       "        vertical-align: top;\n",
       "    }\n",
       "\n",
       "    .dataframe thead th {\n",
       "        text-align: right;\n",
       "    }\n",
       "</style>\n",
       "<table border=\"1\" class=\"dataframe\">\n",
       "  <thead>\n",
       "    <tr style=\"text-align: right;\">\n",
       "      <th></th>\n",
       "      <th>geo.name</th>\n",
       "      <th>indicator.name</th>\n",
       "      <th>geo</th>\n",
       "      <th>indicator</th>\n",
       "      <th>1800</th>\n",
       "      <th>1801</th>\n",
       "      <th>1802</th>\n",
       "      <th>1803</th>\n",
       "      <th>1804</th>\n",
       "      <th>1805</th>\n",
       "      <th>...</th>\n",
       "      <th>2031</th>\n",
       "      <th>2032</th>\n",
       "      <th>2033</th>\n",
       "      <th>2034</th>\n",
       "      <th>2035</th>\n",
       "      <th>2036</th>\n",
       "      <th>2037</th>\n",
       "      <th>2038</th>\n",
       "      <th>2039</th>\n",
       "      <th>2040</th>\n",
       "    </tr>\n",
       "  </thead>\n",
       "  <tbody>\n",
       "    <tr>\n",
       "      <th>0</th>\n",
       "      <td>Abkhazia</td>\n",
       "      <td>GDP per capita, PPP (constant 2011 internation...</td>\n",
       "      <td>abkh</td>\n",
       "      <td>gdppc_cppp</td>\n",
       "      <td>NaN</td>\n",
       "      <td>NaN</td>\n",
       "      <td>NaN</td>\n",
       "      <td>NaN</td>\n",
       "      <td>NaN</td>\n",
       "      <td>NaN</td>\n",
       "      <td>...</td>\n",
       "      <td>NaN</td>\n",
       "      <td>NaN</td>\n",
       "      <td>NaN</td>\n",
       "      <td>NaN</td>\n",
       "      <td>NaN</td>\n",
       "      <td>NaN</td>\n",
       "      <td>NaN</td>\n",
       "      <td>NaN</td>\n",
       "      <td>NaN</td>\n",
       "      <td>NaN</td>\n",
       "    </tr>\n",
       "    <tr>\n",
       "      <th>1</th>\n",
       "      <td>Afghanistan</td>\n",
       "      <td>GDP per capita, PPP (constant 2011 internation...</td>\n",
       "      <td>afg</td>\n",
       "      <td>gdppc_cppp</td>\n",
       "      <td>603.0</td>\n",
       "      <td>603.0</td>\n",
       "      <td>603.0</td>\n",
       "      <td>603.0</td>\n",
       "      <td>603.0</td>\n",
       "      <td>603.0</td>\n",
       "      <td>...</td>\n",
       "      <td>2416.0</td>\n",
       "      <td>2469.0</td>\n",
       "      <td>2524.0</td>\n",
       "      <td>2580.0</td>\n",
       "      <td>2637.0</td>\n",
       "      <td>2695.0</td>\n",
       "      <td>2755.0</td>\n",
       "      <td>2816.0</td>\n",
       "      <td>2878.0</td>\n",
       "      <td>2942.0</td>\n",
       "    </tr>\n",
       "    <tr>\n",
       "      <th>2</th>\n",
       "      <td>Akrotiri and Dhekelia</td>\n",
       "      <td>GDP per capita, PPP (constant 2011 internation...</td>\n",
       "      <td>akr_a_dhe</td>\n",
       "      <td>gdppc_cppp</td>\n",
       "      <td>NaN</td>\n",
       "      <td>NaN</td>\n",
       "      <td>NaN</td>\n",
       "      <td>NaN</td>\n",
       "      <td>NaN</td>\n",
       "      <td>NaN</td>\n",
       "      <td>...</td>\n",
       "      <td>NaN</td>\n",
       "      <td>NaN</td>\n",
       "      <td>NaN</td>\n",
       "      <td>NaN</td>\n",
       "      <td>NaN</td>\n",
       "      <td>NaN</td>\n",
       "      <td>NaN</td>\n",
       "      <td>NaN</td>\n",
       "      <td>NaN</td>\n",
       "      <td>NaN</td>\n",
       "    </tr>\n",
       "    <tr>\n",
       "      <th>3</th>\n",
       "      <td>Albania</td>\n",
       "      <td>GDP per capita, PPP (constant 2011 internation...</td>\n",
       "      <td>alb</td>\n",
       "      <td>gdppc_cppp</td>\n",
       "      <td>667.0</td>\n",
       "      <td>667.0</td>\n",
       "      <td>667.0</td>\n",
       "      <td>667.0</td>\n",
       "      <td>667.0</td>\n",
       "      <td>668.0</td>\n",
       "      <td>...</td>\n",
       "      <td>18471.0</td>\n",
       "      <td>18881.0</td>\n",
       "      <td>19299.0</td>\n",
       "      <td>19727.0</td>\n",
       "      <td>20164.0</td>\n",
       "      <td>20611.0</td>\n",
       "      <td>21068.0</td>\n",
       "      <td>21535.0</td>\n",
       "      <td>22012.0</td>\n",
       "      <td>22500.0</td>\n",
       "    </tr>\n",
       "    <tr>\n",
       "      <th>4</th>\n",
       "      <td>Algeria</td>\n",
       "      <td>GDP per capita, PPP (constant 2011 internation...</td>\n",
       "      <td>dza</td>\n",
       "      <td>gdppc_cppp</td>\n",
       "      <td>715.0</td>\n",
       "      <td>716.0</td>\n",
       "      <td>717.0</td>\n",
       "      <td>718.0</td>\n",
       "      <td>719.0</td>\n",
       "      <td>720.0</td>\n",
       "      <td>...</td>\n",
       "      <td>15603.0</td>\n",
       "      <td>15948.0</td>\n",
       "      <td>16301.0</td>\n",
       "      <td>16662.0</td>\n",
       "      <td>17031.0</td>\n",
       "      <td>17408.0</td>\n",
       "      <td>17794.0</td>\n",
       "      <td>18188.0</td>\n",
       "      <td>18591.0</td>\n",
       "      <td>19003.0</td>\n",
       "    </tr>\n",
       "  </tbody>\n",
       "</table>\n",
       "<p>5 rows × 245 columns</p>\n",
       "</div>"
      ],
      "text/plain": [
       "                geo.name                                     indicator.name  \\\n",
       "0               Abkhazia  GDP per capita, PPP (constant 2011 internation...   \n",
       "1            Afghanistan  GDP per capita, PPP (constant 2011 internation...   \n",
       "2  Akrotiri and Dhekelia  GDP per capita, PPP (constant 2011 internation...   \n",
       "3                Albania  GDP per capita, PPP (constant 2011 internation...   \n",
       "4                Algeria  GDP per capita, PPP (constant 2011 internation...   \n",
       "\n",
       "         geo   indicator   1800   1801   1802   1803   1804   1805   ...     \\\n",
       "0       abkh  gdppc_cppp    NaN    NaN    NaN    NaN    NaN    NaN   ...      \n",
       "1        afg  gdppc_cppp  603.0  603.0  603.0  603.0  603.0  603.0   ...      \n",
       "2  akr_a_dhe  gdppc_cppp    NaN    NaN    NaN    NaN    NaN    NaN   ...      \n",
       "3        alb  gdppc_cppp  667.0  667.0  667.0  667.0  667.0  668.0   ...      \n",
       "4        dza  gdppc_cppp  715.0  716.0  717.0  718.0  719.0  720.0   ...      \n",
       "\n",
       "      2031     2032     2033     2034     2035     2036     2037     2038  \\\n",
       "0      NaN      NaN      NaN      NaN      NaN      NaN      NaN      NaN   \n",
       "1   2416.0   2469.0   2524.0   2580.0   2637.0   2695.0   2755.0   2816.0   \n",
       "2      NaN      NaN      NaN      NaN      NaN      NaN      NaN      NaN   \n",
       "3  18471.0  18881.0  19299.0  19727.0  20164.0  20611.0  21068.0  21535.0   \n",
       "4  15603.0  15948.0  16301.0  16662.0  17031.0  17408.0  17794.0  18188.0   \n",
       "\n",
       "      2039     2040  \n",
       "0      NaN      NaN  \n",
       "1   2878.0   2942.0  \n",
       "2      NaN      NaN  \n",
       "3  22012.0  22500.0  \n",
       "4  18591.0  19003.0  \n",
       "\n",
       "[5 rows x 245 columns]"
      ]
     },
     "execution_count": 25,
     "metadata": {},
     "output_type": "execute_result"
    }
   ],
   "source": [
    "country_data.head()"
   ]
  },
  {
   "cell_type": "code",
   "execution_count": null,
   "metadata": {},
   "outputs": [],
   "source": []
  },
  {
   "cell_type": "code",
   "execution_count": 26,
   "metadata": {},
   "outputs": [],
   "source": [
    "# country entity\n",
    "countries = country_data[['geo', 'geo.name']].copy()"
   ]
  },
  {
   "cell_type": "code",
   "execution_count": 27,
   "metadata": {},
   "outputs": [],
   "source": [
    "countries.columns = ['country', 'name']"
   ]
  },
  {
   "cell_type": "code",
   "execution_count": 28,
   "metadata": {},
   "outputs": [],
   "source": [
    "countries.to_csv('../../ddf--entities--geo--country.csv', index=False)"
   ]
  },
  {
   "cell_type": "code",
   "execution_count": null,
   "metadata": {},
   "outputs": [],
   "source": []
  },
  {
   "cell_type": "code",
   "execution_count": 29,
   "metadata": {},
   "outputs": [],
   "source": [
    "country_df = country_data.set_index('geo').drop(['geo.name', 'indicator', 'indicator.name'], axis=1)"
   ]
  },
  {
   "cell_type": "code",
   "execution_count": 30,
   "metadata": {},
   "outputs": [],
   "source": [
    "country_df = country_df.stack().reset_index()"
   ]
  },
  {
   "cell_type": "code",
   "execution_count": 31,
   "metadata": {},
   "outputs": [],
   "source": [
    "country_df.columns = ['country', 'year', code]"
   ]
  },
  {
   "cell_type": "code",
   "execution_count": 32,
   "metadata": {},
   "outputs": [],
   "source": [
    "country_df.dropna(how='any').to_csv('../../ddf--datapoints--{}--by--country--year.csv'.format(code), index=False)"
   ]
  },
  {
   "cell_type": "code",
   "execution_count": null,
   "metadata": {},
   "outputs": [],
   "source": []
  },
  {
   "cell_type": "code",
   "execution_count": 33,
   "metadata": {},
   "outputs": [],
   "source": [
    "# 4 region\n",
    "region_data = pd.read_excel('../source/gdppc_cppp/gdppc_cppp-by-gapminder.xlsx', \n",
    "                            sheet_name='four_regions')"
   ]
  },
  {
   "cell_type": "code",
   "execution_count": 34,
   "metadata": {},
   "outputs": [],
   "source": [
    "region = region_data[['geo', 'geo.name']]\n",
    "region.columns = ['world_4region', 'name']"
   ]
  },
  {
   "cell_type": "code",
   "execution_count": 35,
   "metadata": {},
   "outputs": [],
   "source": [
    "region.to_csv('../../ddf--entities--geo--world_4region.csv', index=False)"
   ]
  },
  {
   "cell_type": "code",
   "execution_count": null,
   "metadata": {},
   "outputs": [],
   "source": []
  },
  {
   "cell_type": "code",
   "execution_count": 36,
   "metadata": {},
   "outputs": [],
   "source": [
    "region_df = region_data.set_index('geo').drop(['geo.name', 'indicator', 'indicator.name'], axis=1)\n",
    "region_df = region_df.stack().reset_index()\n",
    "region_df.columns = ['world_4region', 'year', code]"
   ]
  },
  {
   "cell_type": "code",
   "execution_count": null,
   "metadata": {},
   "outputs": [],
   "source": []
  },
  {
   "cell_type": "code",
   "execution_count": 37,
   "metadata": {},
   "outputs": [],
   "source": [
    "region_df.dropna(how='any').to_csv('../../ddf--datapoints--{}--by--world_4region--year.csv'.format(code), index=False)"
   ]
  },
  {
   "cell_type": "code",
   "execution_count": null,
   "metadata": {},
   "outputs": [],
   "source": []
  },
  {
   "cell_type": "code",
   "execution_count": null,
   "metadata": {},
   "outputs": [],
   "source": []
  },
  {
   "cell_type": "code",
   "execution_count": 38,
   "metadata": {},
   "outputs": [],
   "source": [
    "# world\n",
    "\n",
    "world_data = pd.read_excel('../source/gdppc_cppp/gdppc_cppp-by-gapminder.xlsx', \n",
    "                            sheet_name='world_total')"
   ]
  },
  {
   "cell_type": "code",
   "execution_count": 39,
   "metadata": {},
   "outputs": [],
   "source": [
    "world = world_data[['geo', 'geo.name']]\n",
    "world.columns = ['global', 'name']\n",
    "\n",
    "world.to_csv('../../ddf--entities--geo--global.csv', index=False)"
   ]
  },
  {
   "cell_type": "code",
   "execution_count": null,
   "metadata": {},
   "outputs": [],
   "source": []
  },
  {
   "cell_type": "code",
   "execution_count": 40,
   "metadata": {},
   "outputs": [],
   "source": [
    "world_df = world_data.set_index('geo').drop(['geo.name', 'indicator', 'indicator.name'], axis=1)\n",
    "world_df = world_df.stack().reset_index()\n",
    "world_df.columns = ['global', 'year', code]"
   ]
  },
  {
   "cell_type": "code",
   "execution_count": 41,
   "metadata": {},
   "outputs": [],
   "source": [
    "world_df.dropna(how='any').to_csv('../../ddf--datapoints--{}--by--global--year.csv'.format(code), index=False)"
   ]
  },
  {
   "cell_type": "code",
   "execution_count": null,
   "metadata": {},
   "outputs": [],
   "source": []
  },
  {
   "cell_type": "code",
   "execution_count": null,
   "metadata": {},
   "outputs": [],
   "source": []
  },
  {
   "cell_type": "code",
   "execution_count": 42,
   "metadata": {},
   "outputs": [
    {
     "name": "stdout",
     "output_type": "stream",
     "text": [
      "backing up previous datapackage.json...\n",
      "\u001b[32m2018-03-27 11:27:09\u001b[0m \u001b[1;30mWARNING\u001b[0m \u001b[33mskipping file .DS_Store\u001b[0m\n",
      "\u001b[32m2018-03-27 11:27:09\u001b[0m \u001b[1;30mWARNING\u001b[0m \u001b[33mskipping file datapackage.json\u001b[0m\n",
      "\u001b[32m2018-03-27 11:27:09\u001b[0m \u001b[1;30mWARNING\u001b[0m \u001b[33mskipping file .gitmodules\u001b[0m\n",
      "\u001b[32m2018-03-27 11:27:09\u001b[0m \u001b[1;30mWARNING\u001b[0m \u001b[33mskipping file README.md\u001b[0m\n",
      "\u001b[32m2018-03-27 11:27:09\u001b[0m \u001b[1;30mWARNING\u001b[0m \u001b[33mskipping file .gitignore\u001b[0m\n",
      "\u001b[32m2018-03-27 11:27:09\u001b[0m \u001b[1;30mWARNING\u001b[0m \u001b[33mskipping file datapackage.json.bak\u001b[0m\n",
      "\u001b[32m2018-03-27 11:27:09\u001b[0m \u001b[1;30mINFO\u001b[0m generating ddf schema, may take some time...\n",
      "\u001b[32m2018-03-27 11:27:09\u001b[0m \u001b[1;30mINFO\u001b[0m loading dataset from disk: ddf--gapminder--gdp_per_capita_cppp\n",
      "100%|█████████████████████████████████████████████| 7/7 [00:00<00:00, 40.88it/s]\n",
      "Done.\n"
     ]
    }
   ],
   "source": [
    "!ddf create_datapackage --overwrite ../../"
   ]
  },
  {
   "cell_type": "code",
   "execution_count": 43,
   "metadata": {},
   "outputs": [
    {
     "name": "stdout",
     "output_type": "stream",
     "text": [
      "\u001b7\u001b[1G\u001b[1mroot checking \u001b[22m\u001b[33m  0%\u001b[39m \u001b[36m/\u001b[39m                                                           \u001b[1m\u001b[22m\u001b[2m\u001b[22m\u001b8\u001b7\u001b[1G\u001b[1mroot checking \u001b[22m\u001b[33m100%\u001b[39m\u001b[34m[\u001b[39m\u001b[36m==========================================================>\u001b[39m\u001b[34m]\u001b[39m\u001b[1m\u001b[22m\u001b[2m\u001b[22m\u001b8\u001b7\u001b[1G\u001b[1mdataset loading \u001b[22m\u001b[33m  0%\u001b[39m \u001b[36m/\u001b[39m                                                         \u001b[1m\u001b[22m\u001b[2m\u001b[22m\u001b8\u001b7\u001b[1G\u001b[1mdatapoints validation \u001b[22m\u001b[33m  0%\u001b[39m \u001b[36m/\u001b[39m                                                   \u001b[1m\u001b[22m\u001b[2m\u001b[22m\u001b8\u001b7\u001b[1G\u001b[1mdatapoints validation \u001b[22m\u001b[33m 67%\u001b[39m\u001b[34m[\u001b[39m\u001b[36m=================================>\u001b[39m                 \u001b[34m]\u001b[39m\u001b[1m\u001b[22m\u001b[2m\u001b[22m\u001b8\u001b7\u001b[1G\u001b[1mdatapoints validation \u001b[22m\u001b[33m100%\u001b[39m\u001b[34m[\u001b[39m\u001b[36m==================================================>\u001b[39m\u001b[34m]\u001b[39m\u001b[1m\u001b[22m\u001b[2m\u001b[22m\u001b8\u001b7\u001b[1G\u001b[1mdatapoints validation \u001b[22m\u001b[33m100%\u001b[39m\u001b[34m[\u001b[39m\u001b[36m==================================================>\u001b[39m\u001b[34m]\u001b[39m\u001b[1m\u001b[22m\u001b[2m\u001b[22m\u001b8\n",
      "Validation was finished successfully.\n",
      "Current version \u001b[31m1.12.0\u001b[39m is too old. New version is \u001b[32m1.14.2\u001b[39m. Update please!\n",
      "\u001b[0m"
     ]
    }
   ],
   "source": [
    "!validate-ddf ../../"
   ]
  },
  {
   "cell_type": "code",
   "execution_count": null,
   "metadata": {},
   "outputs": [],
   "source": []
  }
 ],
 "metadata": {
  "kernelspec": {
   "display_name": "Python 3",
   "language": "python",
   "name": "python3"
  },
  "language_info": {
   "codemirror_mode": {
    "name": "ipython",
    "version": 3
   },
   "file_extension": ".py",
   "mimetype": "text/x-python",
   "name": "python",
   "nbconvert_exporter": "python",
   "pygments_lexer": "ipython3",
   "version": "3.6.2"
  }
 },
 "nbformat": 4,
 "nbformat_minor": 2
}
